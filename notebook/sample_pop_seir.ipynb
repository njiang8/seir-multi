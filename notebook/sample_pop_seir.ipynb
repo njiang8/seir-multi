{
 "cells": [
  {
   "cell_type": "code",
   "execution_count": 2,
   "metadata": {
    "collapsed": true,
    "ExecuteTime": {
     "end_time": "2023-07-23T01:59:41.680323Z",
     "start_time": "2023-07-23T01:59:41.293734Z"
    }
   },
   "outputs": [],
   "source": [
    "import pandas as pd\n",
    "import networkx as nx"
   ]
  },
  {
   "cell_type": "code",
   "execution_count": 3,
   "outputs": [
    {
     "name": "stdout",
     "output_type": "stream",
     "text": [
      "Total population in ERIE County is: 900660\n"
     ]
    }
   ],
   "source": [
    "#Sample Population\n",
    "pop = pd.read_csv('../Data/erie-data/Erie_pop_id.csv').iloc[:,1:]#.set_index('id')\n",
    "print('Total population in ERIE County is:', len(pop))\n",
    "\n",
    "#Networks\"\n",
    "#hhold_networks\n",
    "hhold_nw = nx.read_adjlist('../Data/erie-data/networks/hhold_nw.csv', delimiter=',')\n",
    "#daycare\n",
    "daycare_nw = nx.read_adjlist('../Data/erie-data/networks/daycare_nw.csv', delimiter=',')\n",
    "#school\n",
    "school_nw = nx.read_adjlist('../Data/erie-data/networks/school_nw.csv', delimiter=',')\n",
    "#work\n",
    "work_nw = nx.read_adjlist('../Data/erie-data/networks/work_nw.csv', delimiter=',')"
   ],
   "metadata": {
    "collapsed": false,
    "ExecuteTime": {
     "end_time": "2023-07-23T01:59:51.498722Z",
     "start_time": "2023-07-23T01:59:41.819702Z"
    }
   }
  },
  {
   "cell_type": "code",
   "execution_count": null,
   "outputs": [],
   "source": [],
   "metadata": {
    "collapsed": false
   }
  },
  {
   "cell_type": "code",
   "execution_count": 28,
   "outputs": [
    {
     "name": "stdout",
     "output_type": "stream",
     "text": [
      "12\n",
      "              0              1                2                 3   \\\n",
      "0  36029000110i0  36029000110i3  36029000110i250  36029000110i1995   \n",
      "1  36029000110i1            NaN              NaN               NaN   \n",
      "2  36029000110i2            NaN              NaN               NaN   \n",
      "3  36029000110i3  36029000110i0  36029000110i250  36029000110i1995   \n",
      "4  36029000110i4            NaN              NaN               NaN   \n",
      "\n",
      "                 4    5    6    7    8    9    10   11  \n",
      "0  36029000110i2356  NaN  NaN  NaN  NaN  NaN  NaN  NaN  \n",
      "1               NaN  NaN  NaN  NaN  NaN  NaN  NaN  NaN  \n",
      "2               NaN  NaN  NaN  NaN  NaN  NaN  NaN  NaN  \n",
      "3  36029000110i2356  NaN  NaN  NaN  NaN  NaN  NaN  NaN  \n",
      "4               NaN  NaN  NaN  NaN  NaN  NaN  NaN  NaN  \n"
     ]
    },
    {
     "name": "stderr",
     "output_type": "stream",
     "text": [
      "/var/folders/b_/dltdc3_d0dzgc_5m7qnc4ysm0000gn/T/ipykernel_47443/276211942.py:11: DtypeWarning: Columns (9,10,11) have mixed types. Specify dtype option on import or set low_memory=False.\n",
      "  df = pd.read_csv(path_csv, names=range(num))\n"
     ]
    }
   ],
   "source": [
    "#sample_net = pd.read_csv('../Data/erie-data/networks/hhold_nw.csv').iloc[:,1:3]\n",
    "#sample_net.head()\n",
    "\n",
    "path_csv = '../Data/erie-data/networks/hhold_nw.csv'\n",
    "with open(path_csv) as f:\n",
    "    lines = f.readlines()\n",
    "    num = max(l.count(',') for l in lines) + 1\n",
    "    print (num)\n",
    "\n",
    "\n",
    "df = pd.read_csv(path_csv, names=range(num))\n",
    "#print (df.head())"
   ],
   "metadata": {
    "collapsed": false,
    "ExecuteTime": {
     "end_time": "2023-07-25T14:38:00.373776Z",
     "start_time": "2023-07-25T14:37:59.294841Z"
    }
   }
  },
  {
   "cell_type": "code",
   "execution_count": 41,
   "outputs": [
    {
     "data": {
      "text/plain": "                       0                1                 2                 3  \\\n0          36029000110i0    36029000110i3   36029000110i250  36029000110i1995   \n1          36029000110i3    36029000110i0   36029000110i250  36029000110i1995   \n2         36029000110i44   36029000110i53  36029000110i2204   36029000110i278   \n3         36029000110i53   36029000110i44   36029000110i278  36029000110i2030   \n4         36029000110i58   36029000110i59  36029000110i2740   36029000110i289   \n...                  ...              ...               ...               ...   \n183419  36029940000i1829  36029940000i204   36029940000i385  36029940000i1348   \n183420  36029940000i1831  36029940000i345   36029940000i570  36029940000i1398   \n183421  36029940000i1833  36029940000i681   36029940000i874   36029940000i876   \n183422  36029940000i1834  36029940000i686   36029940000i882  36029940000i1249   \n183423  36029940000i1835  36029940000i280   36029940000i283  36029940000i1308   \n\n                       4  \n0       36029000110i2356  \n1       36029000110i2356  \n2       36029000110i2151  \n3       36029000110i2204  \n4       36029000110i2192  \n...                  ...  \n183419  36029940000i1635  \n183420  36029940000i1818  \n183421   36029940000i921  \n183422  36029940000i1780  \n183423  36029940000i1521  \n\n[183424 rows x 5 columns]",
      "text/html": "<div>\n<style scoped>\n    .dataframe tbody tr th:only-of-type {\n        vertical-align: middle;\n    }\n\n    .dataframe tbody tr th {\n        vertical-align: top;\n    }\n\n    .dataframe thead th {\n        text-align: right;\n    }\n</style>\n<table border=\"1\" class=\"dataframe\">\n  <thead>\n    <tr style=\"text-align: right;\">\n      <th></th>\n      <th>0</th>\n      <th>1</th>\n      <th>2</th>\n      <th>3</th>\n      <th>4</th>\n    </tr>\n  </thead>\n  <tbody>\n    <tr>\n      <th>0</th>\n      <td>36029000110i0</td>\n      <td>36029000110i3</td>\n      <td>36029000110i250</td>\n      <td>36029000110i1995</td>\n      <td>36029000110i2356</td>\n    </tr>\n    <tr>\n      <th>1</th>\n      <td>36029000110i3</td>\n      <td>36029000110i0</td>\n      <td>36029000110i250</td>\n      <td>36029000110i1995</td>\n      <td>36029000110i2356</td>\n    </tr>\n    <tr>\n      <th>2</th>\n      <td>36029000110i44</td>\n      <td>36029000110i53</td>\n      <td>36029000110i2204</td>\n      <td>36029000110i278</td>\n      <td>36029000110i2151</td>\n    </tr>\n    <tr>\n      <th>3</th>\n      <td>36029000110i53</td>\n      <td>36029000110i44</td>\n      <td>36029000110i278</td>\n      <td>36029000110i2030</td>\n      <td>36029000110i2204</td>\n    </tr>\n    <tr>\n      <th>4</th>\n      <td>36029000110i58</td>\n      <td>36029000110i59</td>\n      <td>36029000110i2740</td>\n      <td>36029000110i289</td>\n      <td>36029000110i2192</td>\n    </tr>\n    <tr>\n      <th>...</th>\n      <td>...</td>\n      <td>...</td>\n      <td>...</td>\n      <td>...</td>\n      <td>...</td>\n    </tr>\n    <tr>\n      <th>183419</th>\n      <td>36029940000i1829</td>\n      <td>36029940000i204</td>\n      <td>36029940000i385</td>\n      <td>36029940000i1348</td>\n      <td>36029940000i1635</td>\n    </tr>\n    <tr>\n      <th>183420</th>\n      <td>36029940000i1831</td>\n      <td>36029940000i345</td>\n      <td>36029940000i570</td>\n      <td>36029940000i1398</td>\n      <td>36029940000i1818</td>\n    </tr>\n    <tr>\n      <th>183421</th>\n      <td>36029940000i1833</td>\n      <td>36029940000i681</td>\n      <td>36029940000i874</td>\n      <td>36029940000i876</td>\n      <td>36029940000i921</td>\n    </tr>\n    <tr>\n      <th>183422</th>\n      <td>36029940000i1834</td>\n      <td>36029940000i686</td>\n      <td>36029940000i882</td>\n      <td>36029940000i1249</td>\n      <td>36029940000i1780</td>\n    </tr>\n    <tr>\n      <th>183423</th>\n      <td>36029940000i1835</td>\n      <td>36029940000i280</td>\n      <td>36029940000i283</td>\n      <td>36029940000i1308</td>\n      <td>36029940000i1521</td>\n    </tr>\n  </tbody>\n</table>\n<p>183424 rows × 5 columns</p>\n</div>"
     },
     "execution_count": 41,
     "metadata": {},
     "output_type": "execute_result"
    }
   ],
   "source": [
    "df.iloc[:,:5].dropna().reset_index(drop=True)"
   ],
   "metadata": {
    "collapsed": false,
    "ExecuteTime": {
     "end_time": "2023-07-25T14:40:37.914902Z",
     "start_time": "2023-07-25T14:40:37.887225Z"
    }
   }
  },
  {
   "cell_type": "code",
   "execution_count": 19,
   "outputs": [
    {
     "data": {
      "text/plain": "              id   age sex            hhold  htype               wp  \\\n0  36029000110i0   6.0   f  36029000110h335      5    36029000110s0   \n1  36029000110i1  54.0   f   36029000110h66      9  36029010700w572   \n2  36029000110i2  27.0   m  36029000110h185      7  36029000110h185   \n3  36029000110i3  13.0   f  36029000110h335      5    36029000110s0   \n4  36029000110i4  28.0   m  36029000110h186      7  36029000110h186   \n\n                                        geometry       long        lat  \n0    POINT (-78.82896033753237 42.8319901673968) -78.828960  42.831990  \n1  POINT (-78.82684360311679 42.844139551113386) -78.826844  42.844140  \n2  POINT (-78.85573318586734 42.839600789208994) -78.855733  42.839601  \n3    POINT (-78.82896033753237 42.8319901673968) -78.828960  42.831990  \n4   POINT (-78.83826068581105 42.85535764959998) -78.838261  42.855358  ",
      "text/html": "<div>\n<style scoped>\n    .dataframe tbody tr th:only-of-type {\n        vertical-align: middle;\n    }\n\n    .dataframe tbody tr th {\n        vertical-align: top;\n    }\n\n    .dataframe thead th {\n        text-align: right;\n    }\n</style>\n<table border=\"1\" class=\"dataframe\">\n  <thead>\n    <tr style=\"text-align: right;\">\n      <th></th>\n      <th>id</th>\n      <th>age</th>\n      <th>sex</th>\n      <th>hhold</th>\n      <th>htype</th>\n      <th>wp</th>\n      <th>geometry</th>\n      <th>long</th>\n      <th>lat</th>\n    </tr>\n  </thead>\n  <tbody>\n    <tr>\n      <th>0</th>\n      <td>36029000110i0</td>\n      <td>6.0</td>\n      <td>f</td>\n      <td>36029000110h335</td>\n      <td>5</td>\n      <td>36029000110s0</td>\n      <td>POINT (-78.82896033753237 42.8319901673968)</td>\n      <td>-78.828960</td>\n      <td>42.831990</td>\n    </tr>\n    <tr>\n      <th>1</th>\n      <td>36029000110i1</td>\n      <td>54.0</td>\n      <td>f</td>\n      <td>36029000110h66</td>\n      <td>9</td>\n      <td>36029010700w572</td>\n      <td>POINT (-78.82684360311679 42.844139551113386)</td>\n      <td>-78.826844</td>\n      <td>42.844140</td>\n    </tr>\n    <tr>\n      <th>2</th>\n      <td>36029000110i2</td>\n      <td>27.0</td>\n      <td>m</td>\n      <td>36029000110h185</td>\n      <td>7</td>\n      <td>36029000110h185</td>\n      <td>POINT (-78.85573318586734 42.839600789208994)</td>\n      <td>-78.855733</td>\n      <td>42.839601</td>\n    </tr>\n    <tr>\n      <th>3</th>\n      <td>36029000110i3</td>\n      <td>13.0</td>\n      <td>f</td>\n      <td>36029000110h335</td>\n      <td>5</td>\n      <td>36029000110s0</td>\n      <td>POINT (-78.82896033753237 42.8319901673968)</td>\n      <td>-78.828960</td>\n      <td>42.831990</td>\n    </tr>\n    <tr>\n      <th>4</th>\n      <td>36029000110i4</td>\n      <td>28.0</td>\n      <td>m</td>\n      <td>36029000110h186</td>\n      <td>7</td>\n      <td>36029000110h186</td>\n      <td>POINT (-78.83826068581105 42.85535764959998)</td>\n      <td>-78.838261</td>\n      <td>42.855358</td>\n    </tr>\n  </tbody>\n</table>\n</div>"
     },
     "execution_count": 19,
     "metadata": {},
     "output_type": "execute_result"
    }
   ],
   "source": [
    "pop.head()#.to_csv('test.csv')"
   ],
   "metadata": {
    "collapsed": false,
    "ExecuteTime": {
     "end_time": "2023-07-25T14:34:07.659885Z",
     "start_time": "2023-07-25T14:34:07.655075Z"
    }
   }
  },
  {
   "cell_type": "code",
   "execution_count": 15,
   "outputs": [
    {
     "data": {
      "text/plain": "                      id   age sex            hhold  htype               wp  \\\n900655  36029940000i1831  16.0   f  36029940000h405      3    36029015504s0   \n900656  36029940000i1832  35.0   f  36029940000h653      6  36029940000h653   \n900657  36029940000i1833  40.0   f  36029940000h484      1  36009940300w439   \n900658  36029940000i1834  38.0   f  36029940000h485      1  36009940300w366   \n900659  36029940000i1835  49.0   f  36029940000h266      5  36029940000h266   \n\n                                            geometry       long        lat  \n900655  POINT (-79.12422960521181 42.57431784113052) -79.124230  42.574318  \n900656  POINT (-78.9717120285946 42.543339963292304) -78.971712  42.543340  \n900657  POINT (-79.00099290472964 42.55936297550051) -79.000993  42.559363  \n900658    POINT (-79.1248845389016 42.5675512676894) -79.124885  42.567551  \n900659  POINT (-78.97280120512237 42.51433612766749) -78.972801  42.514336  ",
      "text/html": "<div>\n<style scoped>\n    .dataframe tbody tr th:only-of-type {\n        vertical-align: middle;\n    }\n\n    .dataframe tbody tr th {\n        vertical-align: top;\n    }\n\n    .dataframe thead th {\n        text-align: right;\n    }\n</style>\n<table border=\"1\" class=\"dataframe\">\n  <thead>\n    <tr style=\"text-align: right;\">\n      <th></th>\n      <th>id</th>\n      <th>age</th>\n      <th>sex</th>\n      <th>hhold</th>\n      <th>htype</th>\n      <th>wp</th>\n      <th>geometry</th>\n      <th>long</th>\n      <th>lat</th>\n    </tr>\n  </thead>\n  <tbody>\n    <tr>\n      <th>900655</th>\n      <td>36029940000i1831</td>\n      <td>16.0</td>\n      <td>f</td>\n      <td>36029940000h405</td>\n      <td>3</td>\n      <td>36029015504s0</td>\n      <td>POINT (-79.12422960521181 42.57431784113052)</td>\n      <td>-79.124230</td>\n      <td>42.574318</td>\n    </tr>\n    <tr>\n      <th>900656</th>\n      <td>36029940000i1832</td>\n      <td>35.0</td>\n      <td>f</td>\n      <td>36029940000h653</td>\n      <td>6</td>\n      <td>36029940000h653</td>\n      <td>POINT (-78.9717120285946 42.543339963292304)</td>\n      <td>-78.971712</td>\n      <td>42.543340</td>\n    </tr>\n    <tr>\n      <th>900657</th>\n      <td>36029940000i1833</td>\n      <td>40.0</td>\n      <td>f</td>\n      <td>36029940000h484</td>\n      <td>1</td>\n      <td>36009940300w439</td>\n      <td>POINT (-79.00099290472964 42.55936297550051)</td>\n      <td>-79.000993</td>\n      <td>42.559363</td>\n    </tr>\n    <tr>\n      <th>900658</th>\n      <td>36029940000i1834</td>\n      <td>38.0</td>\n      <td>f</td>\n      <td>36029940000h485</td>\n      <td>1</td>\n      <td>36009940300w366</td>\n      <td>POINT (-79.1248845389016 42.5675512676894)</td>\n      <td>-79.124885</td>\n      <td>42.567551</td>\n    </tr>\n    <tr>\n      <th>900659</th>\n      <td>36029940000i1835</td>\n      <td>49.0</td>\n      <td>f</td>\n      <td>36029940000h266</td>\n      <td>5</td>\n      <td>36029940000h266</td>\n      <td>POINT (-78.97280120512237 42.51433612766749)</td>\n      <td>-78.972801</td>\n      <td>42.514336</td>\n    </tr>\n  </tbody>\n</table>\n</div>"
     },
     "execution_count": 15,
     "metadata": {},
     "output_type": "execute_result"
    }
   ],
   "source": [
    "pop.tail()"
   ],
   "metadata": {
    "collapsed": false,
    "ExecuteTime": {
     "end_time": "2023-07-23T02:14:22.156667Z",
     "start_time": "2023-07-23T02:14:22.153370Z"
    }
   }
  },
  {
   "cell_type": "code",
   "execution_count": 13,
   "outputs": [
    {
     "data": {
      "text/plain": "['36029940000i280',\n '36029940000i283',\n '36029940000i1308',\n '36029940000i1521',\n '36029940000i1777']"
     },
     "execution_count": 13,
     "metadata": {},
     "output_type": "execute_result"
    }
   ],
   "source": [
    "list(hhold_nw.neighbors('36029940000i1835'))"
   ],
   "metadata": {
    "collapsed": false,
    "ExecuteTime": {
     "end_time": "2023-07-23T02:11:18.430130Z",
     "start_time": "2023-07-23T02:11:18.424067Z"
    }
   }
  },
  {
   "cell_type": "markdown",
   "source": [],
   "metadata": {
    "collapsed": false
   }
  },
  {
   "cell_type": "code",
   "execution_count": 10,
   "outputs": [
    {
     "data": {
      "text/plain": "['36029000110i3',\n '36029017400i3774',\n '36029000110i8',\n '36029017400i3768',\n '36029000600i4398']"
     },
     "execution_count": 10,
     "metadata": {},
     "output_type": "execute_result"
    }
   ],
   "source": [
    "list(school_nw.neighbors('36029940000i1835'))"
   ],
   "metadata": {
    "collapsed": false,
    "ExecuteTime": {
     "end_time": "2023-07-23T02:08:59.109829Z",
     "start_time": "2023-07-23T02:08:59.104723Z"
    }
   }
  },
  {
   "cell_type": "code",
   "execution_count": null,
   "outputs": [],
   "source": [],
   "metadata": {
    "collapsed": false
   }
  }
 ],
 "metadata": {
  "kernelspec": {
   "display_name": "Python 3",
   "language": "python",
   "name": "python3"
  },
  "language_info": {
   "codemirror_mode": {
    "name": "ipython",
    "version": 2
   },
   "file_extension": ".py",
   "mimetype": "text/x-python",
   "name": "python",
   "nbconvert_exporter": "python",
   "pygments_lexer": "ipython2",
   "version": "2.7.6"
  }
 },
 "nbformat": 4,
 "nbformat_minor": 0
}
